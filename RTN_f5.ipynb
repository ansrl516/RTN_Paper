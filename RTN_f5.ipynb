{
  "nbformat": 4,
  "nbformat_minor": 0,
  "metadata": {
    "colab": {
      "provenance": [],
      "authorship_tag": "ABX9TyOwZF0HsKCKrGaVhxEzPL7q",
      "include_colab_link": true
    },
    "kernelspec": {
      "name": "python3",
      "display_name": "Python 3"
    },
    "language_info": {
      "name": "python"
    },
    "accelerator": "TPU"
  },
  "cells": [
    {
      "cell_type": "markdown",
      "metadata": {
        "id": "view-in-github",
        "colab_type": "text"
      },
      "source": [
        "<a href=\"https://colab.research.google.com/github/ansrl516/RTN_Paper/blob/main/RTN_f5.ipynb\" target=\"_parent\"><img src=\"https://colab.research.google.com/assets/colab-badge.svg\" alt=\"Open In Colab\"/></a>"
      ]
    },
    {
      "cell_type": "code",
      "execution_count": 1,
      "metadata": {
        "id": "Q8YfuSf6YUWk"
      },
      "outputs": [],
      "source": [
        "import torch\n",
        "import math\n",
        "import torch.nn as nn\n",
        "import torch.nn.functional as F\n",
        "import torch.optim as optim\n",
        "import torch.autograd as Variable\n",
        "import numpy as np"
      ]
    },
    {
      "cell_type": "code",
      "source": [
        "device = (\n",
        "    \"cuda\"\n",
        "    if torch.cuda.is_available()\n",
        "    else \"cpu\"\n",
        ")\n",
        "print(f\"Using {device} device\")"
      ],
      "metadata": {
        "colab": {
          "base_uri": "https://localhost:8080/"
        },
        "id": "slPnICM7Yb4H",
        "outputId": "82b485fc-683b-41bb-a780-9c869a95e17c"
      },
      "execution_count": 2,
      "outputs": [
        {
          "output_type": "stream",
          "name": "stdout",
          "text": [
            "Using cpu device\n"
          ]
        }
      ]
    },
    {
      "cell_type": "code",
      "source": [
        "class Fig5(nn.Module):\n",
        "\n",
        "    def __init__(self, M, n, EbNo):\n",
        "        super().__init__()\n",
        "        self.M = M\n",
        "        self.n = n\n",
        "        self.b = 1/(2*(math.log2(M)/n)*EbNo)\n",
        "        self.Dense1 = nn.Linear(2*M,2*M)\n",
        "        self.relu1 = nn.ReLU()\n",
        "        self.Dense2 = nn.Linear(2*M,2*n)\n",
        "        self.BatchNorm = nn.BatchNorm1d(num_features=2*n, affine=False, track_running_stats=True)\n",
        "        self.Dense3 = nn.Linear(2*n,2*M)\n",
        "        self.relu3 = nn.ReLU()\n",
        "        self.Dense4 = nn.Linear(2*M,2*M)\n",
        "        self.softmax = nn.Softmax(dim=1)\n",
        "\n",
        "    def f(self,x):\n",
        "        #print(x)\n",
        "        x = self.Dense1(x)\n",
        "        x = self.relu1(x)\n",
        "        x = self.Dense2(x)\n",
        "        x = self.BatchNorm(x)\n",
        "        return x\n",
        "\n",
        "    def channel(self,x):\n",
        "        noise = torch.normal(0,math.sqrt(self.b),size=(x.shape[0],2*n))\n",
        "        u1 = x[:,0:self.n]\n",
        "        u2 = x[:,self.n:2*self.n]\n",
        "        x[:,0:self.n] = u1 + u2 + noise[:,0:self.n]\n",
        "        x[:,self.n:2*self.n] = u1 + u2 + noise[:,self.n:2*self.n]\n",
        "        return x\n",
        "\n",
        "    def g(self,x):\n",
        "        x = self.Dense3(x)\n",
        "        x = self.relu3(x)\n",
        "        x = self.Dense4(x)\n",
        "        x = torch.cat((self.softmax(x[:,0:self.M]),self.softmax(x[:,self.M:self.M*2])),dim=1)\n",
        "        return x\n",
        "\n",
        "    def forward(self,x):\n",
        "        x = self.f(x)\n",
        "        x = self.channel(x)\n",
        "        x = self.g(x)\n",
        "        return x"
      ],
      "metadata": {
        "id": "O6Wwn8csYwIk"
      },
      "execution_count": 3,
      "outputs": []
    },
    {
      "cell_type": "code",
      "source": [
        "#x=torch.tensor([[1.0,1,1,1],[2,2,2,2],[3,3,3,3]])\n",
        "#soft = nn.Softmax(dim=1)\n",
        "#print(torch.cat((x[:,0:2],x[:,0:2]),dim=1))\n",
        "##soft(x[:,0:2])\n",
        "print(data[4:8,:])\n",
        "print(model(data[4:8,:]))\n",
        "print(A[4:8,:])\n",
        "print(model(A[4:8,:]))"
      ],
      "metadata": {
        "colab": {
          "base_uri": "https://localhost:8080/"
        },
        "id": "LOEJST04Puqe",
        "outputId": "0cffac5a-42f3-4342-ef70-bfe7dc967a5e"
      },
      "execution_count": 152,
      "outputs": [
        {
          "output_type": "stream",
          "name": "stdout",
          "text": [
            "tensor([[0., 0., 1., 0., 0., 1., 0., 0.],\n",
            "        [0., 0., 0., 1., 0., 1., 0., 0.],\n",
            "        [0., 1., 0., 0., 0., 0., 0., 1.],\n",
            "        [1., 0., 0., 0., 1., 0., 0., 0.]])\n",
            "tensor([[4.7384e-04, 2.7408e-05, 9.9949e-01, 9.5503e-06, 5.6984e-01, 8.0390e-02,\n",
            "         3.3953e-01, 1.0238e-02],\n",
            "        [3.9859e-05, 2.4352e-05, 3.7785e-07, 9.9994e-01, 3.3312e-01, 1.8818e-01,\n",
            "         4.6619e-01, 1.2501e-02],\n",
            "        [1.8164e-05, 9.9937e-01, 1.0864e-04, 5.0811e-04, 5.2299e-02, 4.2278e-02,\n",
            "         5.8069e-02, 8.4735e-01],\n",
            "        [9.9960e-01, 1.6624e-06, 1.1680e-04, 2.8119e-04, 6.9918e-01, 5.5314e-02,\n",
            "         9.9131e-02, 1.4637e-01]], grad_fn=<CatBackward0>)\n",
            "tensor([[0., 1., 0., 0., 1., 0., 0., 0.],\n",
            "        [0., 1., 0., 0., 0., 1., 0., 0.],\n",
            "        [0., 1., 0., 0., 0., 0., 1., 0.],\n",
            "        [0., 1., 0., 0., 0., 0., 0., 1.]])\n",
            "tensor([[0.2456, 0.0094, 0.7271, 0.0179, 0.4657, 0.1097, 0.3343, 0.0903],\n",
            "        [0.0611, 0.0484, 0.0303, 0.8601, 0.3253, 0.2010, 0.3462, 0.1275],\n",
            "        [0.0678, 0.0233, 0.0118, 0.8970, 0.3531, 0.1843, 0.3488, 0.1137],\n",
            "        [0.0672, 0.3030, 0.5736, 0.0563, 0.2952, 0.1617, 0.2740, 0.2691]],\n",
            "       grad_fn=<CatBackward0>)\n"
          ]
        }
      ]
    },
    {
      "cell_type": "code",
      "source": [
        "# Import Dataset of Epoch = 80, Batch_size = 32, Dataset = 6 * 10^4(Train) / 10^7(Test), Learning Rate = 0.001, Adam Optimizer\n",
        "from torch.utils.data import Dataset\n",
        "from torch.utils.data import DataLoader\n",
        "\n",
        "n, k = 2, 2\n",
        "dataset_num = 10 ** 6\n",
        "data1 = F.one_hot(torch.randint(high=2**k,size=(dataset_num,)),num_classes=2**k)\n",
        "data1 = data1.to(torch.float32)\n",
        "\n",
        "data2 = F.one_hot(torch.randint(high=2**k,size=(dataset_num,)),num_classes=2**k)\n",
        "data2 = data2.to(torch.float32)\n",
        "data = torch.cat((data1,data2),dim=1)\n",
        "print(data.shape)\n",
        "print(data[0])\n",
        "\n",
        "class CustomDataset(Dataset):\n",
        "    def __init__(self, data):\n",
        "        self.x_data = data\n",
        "        self.y_data = data\n",
        "    def __len__(self):\n",
        "        return len(self.x_data)\n",
        "    def __getitem__(self, idx):\n",
        "        return self.x_data[idx], self.y_data[idx]\n",
        "\n",
        "dataset = CustomDataset(data)\n",
        "dataset_size = len(dataset)\n",
        "print(dataset_size)\n",
        "train_size = int(0.006 * dataset_size)\n",
        "test_size = dataset_size - train_size\n",
        "train_dataset, test_dataset = torch.utils.data.random_split(dataset, [train_size, test_size])\n",
        "\n",
        "train_dataloader = DataLoader(train_dataset, batch_size=32, shuffle=True, drop_last=True)\n",
        "test_dataloader = DataLoader(test_dataset, batch_size=len(test_dataset))"
      ],
      "metadata": {
        "colab": {
          "base_uri": "https://localhost:8080/"
        },
        "id": "6-dFC_85Fqc0",
        "outputId": "dc6989bd-508d-41ee-bd5e-4b96aa0d3572"
      },
      "execution_count": 4,
      "outputs": [
        {
          "output_type": "stream",
          "name": "stdout",
          "text": [
            "torch.Size([1000000, 8])\n",
            "tensor([0., 1., 0., 0., 0., 0., 0., 1.])\n",
            "1000000\n"
          ]
        }
      ]
    },
    {
      "cell_type": "code",
      "source": [
        "EbNo = 10 ** (7/10)\n",
        "n,k = 2,2\n",
        "model = Fig5(2**k,n,EbNo)\n",
        "criterion = nn.CrossEntropyLoss().to(device) # Define my loss functino\n",
        "optimizer = optim.Adam(model.parameters(), lr=0.001)\n",
        "for epoch in range(100):\n",
        "    print(epoch)\n",
        "    cost = 0.0\n",
        "    i = 0\n",
        "    for (a, (x,y)) in enumerate(train_dataloader):\n",
        "        i += 1\n",
        "        x = x.to(device)\n",
        "        y = y.to(device)\n",
        "        #print(x.shape)\n",
        "        output = model(x)\n",
        "        loss1 = criterion(y[:,0:n],output[:,0:n])\n",
        "        loss2 = criterion(y[:,n:(2*n)],output[:,n:(2*n)])\n",
        "        with torch.no_grad():\n",
        "            a = loss1 / (loss1+loss2)\n",
        "        loss = a * loss1 + (1-a) * loss2\n",
        "\n",
        "        optimizer.zero_grad()\n",
        "        loss.backward()\n",
        "        optimizer.step()\n",
        "        cost += loss\n",
        "    #print(EbNo, cost/i)\n",
        "with torch.no_grad():\n",
        "    x,y = dataset[:]\n",
        "    x = x.to(device)\n",
        "    output = model(x).detach().numpy()\n",
        "    y = y.numpy()\n",
        "    u1_index = np.argmax(output[:,0:n],axis=1)\n",
        "    u2_index = np.argmax(output[:,n:2*n],axis=1)\n",
        "    print(output.shape)\n",
        "    u1_true = np.argmax(y[:,0:n], axis=1)\n",
        "    u2_true = np.argmax(y[:,n:2*n],axis=1)\n",
        "    Ps1 = len(np.nonzero(u1_index - u1_true)[0])/u1_true.shape[0]\n",
        "    Ps2 = len(np.nonzero(u2_index - u2_true)[0])/u2_true.shape[0]\n",
        "    print(Ps1,Ps2)\n",
        "\n",
        "A = np.zeros(((2**k)*(2**k),(2**k)*2))\n",
        "for i in range(2**k):\n",
        "    for j in range(2**k):\n",
        "        A[((2**k)*i)+j,i] = 1\n",
        "        A[(2**k)*i+j,2**k+j]=1\n",
        "A = torch.tensor(A)\n",
        "A = A.to(torch.float32)\n",
        "coord = model.f(A).detach().numpy()\n",
        "\n",
        "import matplotlib.pyplot as plt\n",
        "print(coord.shape)\n",
        "for dot in coord[:,0:n]:\n",
        "    plt.scatter(dot[0],dot[1],color='r')\n",
        "for dot in coord[:,n:2*n]:\n",
        "    plt.scatter(dot[0],dot[1],color='b')\n",
        "plt.xlim(-2,2)\n",
        "plt.ylim(-2,2)\n",
        "plt.grid(True)\n",
        "plt.show()"
      ],
      "metadata": {
        "colab": {
          "base_uri": "https://localhost:8080/",
          "height": 1000
        },
        "id": "ClyYUYbOY1Hg",
        "outputId": "9bb2b1bd-9e34-44da-e5db-6b0768281c91"
      },
      "execution_count": 5,
      "outputs": [
        {
          "output_type": "stream",
          "name": "stdout",
          "text": [
            "0\n",
            "1\n",
            "2\n",
            "3\n",
            "4\n",
            "5\n",
            "6\n",
            "7\n",
            "8\n",
            "9\n",
            "10\n",
            "11\n",
            "12\n",
            "13\n",
            "14\n",
            "15\n",
            "16\n",
            "17\n",
            "18\n",
            "19\n",
            "20\n",
            "21\n",
            "22\n",
            "23\n",
            "24\n",
            "25\n",
            "26\n",
            "27\n",
            "28\n",
            "29\n",
            "30\n",
            "31\n",
            "32\n",
            "33\n",
            "34\n",
            "35\n",
            "36\n",
            "37\n",
            "38\n",
            "39\n",
            "40\n",
            "41\n",
            "42\n",
            "43\n",
            "44\n",
            "45\n",
            "46\n",
            "47\n",
            "48\n",
            "49\n",
            "50\n",
            "51\n",
            "52\n",
            "53\n",
            "54\n",
            "55\n",
            "56\n",
            "57\n",
            "58\n",
            "59\n",
            "60\n",
            "61\n",
            "62\n",
            "63\n",
            "64\n",
            "65\n",
            "66\n",
            "67\n",
            "68\n",
            "69\n",
            "70\n",
            "71\n",
            "72\n",
            "73\n",
            "74\n",
            "75\n",
            "76\n",
            "77\n",
            "78\n",
            "79\n",
            "80\n",
            "81\n",
            "82\n",
            "83\n",
            "84\n",
            "85\n",
            "86\n",
            "87\n",
            "88\n",
            "89\n",
            "90\n",
            "91\n",
            "92\n",
            "93\n",
            "94\n",
            "95\n",
            "96\n",
            "97\n",
            "98\n",
            "99\n",
            "(1000000, 8)\n",
            "0.250468 0.25081\n",
            "(16, 4)\n"
          ]
        },
        {
          "output_type": "display_data",
          "data": {
            "text/plain": [
              "<Figure size 640x480 with 1 Axes>"
            ],
            "image/png": "[encoded data removed]"
          },
          "metadata": {}
        }
      ]
    },
    {
      "cell_type": "code",
      "source": [
        "model.f(A)"
      ],
      "metadata": {
        "colab": {
          "base_uri": "https://localhost:8080/",
          "height": 335
        },
        "id": "T4neeMiLLeD_",
        "outputId": "384ce44e-0a39-4ecf-e40a-02d86566ac41"
      },
      "execution_count": 54,
      "outputs": [
        {
          "output_type": "error",
          "ename": "RuntimeError",
          "evalue": "ignored",
          "traceback": [
            "\u001b[0;31m---------------------------------------------------------------------------\u001b[0m",
            "\u001b[0;31mRuntimeError\u001b[0m                              Traceback (most recent call last)",
            "\u001b[0;32m<ipython-input-54-65138ac912df>\u001b[0m in \u001b[0;36m<cell line: 1>\u001b[0;34m()\u001b[0m\n\u001b[0;32m----> 1\u001b[0;31m \u001b[0mmodel\u001b[0m\u001b[0;34m.\u001b[0m\u001b[0mf\u001b[0m\u001b[0;34m(\u001b[0m\u001b[0mA\u001b[0m\u001b[0;34m)\u001b[0m\u001b[0;34m\u001b[0m\u001b[0;34m\u001b[0m\u001b[0m\n\u001b[0m",
            "\u001b[0;32m<ipython-input-32-1a2cdecdf5c2>\u001b[0m in \u001b[0;36mf\u001b[0;34m(self, x)\u001b[0m\n\u001b[1;32m     16\u001b[0m \u001b[0;34m\u001b[0m\u001b[0m\n\u001b[1;32m     17\u001b[0m     \u001b[0;32mdef\u001b[0m \u001b[0mf\u001b[0m\u001b[0;34m(\u001b[0m\u001b[0mself\u001b[0m\u001b[0;34m,\u001b[0m\u001b[0mx\u001b[0m\u001b[0;34m)\u001b[0m\u001b[0;34m:\u001b[0m\u001b[0;34m\u001b[0m\u001b[0;34m\u001b[0m\u001b[0m\n\u001b[0;32m---> 18\u001b[0;31m         \u001b[0mx\u001b[0m \u001b[0;34m=\u001b[0m \u001b[0mself\u001b[0m\u001b[0;34m.\u001b[0m\u001b[0mDense1\u001b[0m\u001b[0;34m(\u001b[0m\u001b[0mx\u001b[0m\u001b[0;34m)\u001b[0m\u001b[0;34m\u001b[0m\u001b[0;34m\u001b[0m\u001b[0m\n\u001b[0m\u001b[1;32m     19\u001b[0m         \u001b[0mx\u001b[0m \u001b[0;34m=\u001b[0m \u001b[0mself\u001b[0m\u001b[0;34m.\u001b[0m\u001b[0mrelu1\u001b[0m\u001b[0;34m(\u001b[0m\u001b[0mx\u001b[0m\u001b[0;34m)\u001b[0m\u001b[0;34m\u001b[0m\u001b[0;34m\u001b[0m\u001b[0m\n\u001b[1;32m     20\u001b[0m         \u001b[0mx\u001b[0m \u001b[0;34m=\u001b[0m \u001b[0mself\u001b[0m\u001b[0;34m.\u001b[0m\u001b[0mDense2\u001b[0m\u001b[0;34m(\u001b[0m\u001b[0mx\u001b[0m\u001b[0;34m)\u001b[0m\u001b[0;34m\u001b[0m\u001b[0;34m\u001b[0m\u001b[0m\n",
            "\u001b[0;32m/usr/local/lib/python3.10/dist-packages/torch/nn/modules/module.py\u001b[0m in \u001b[0;36m_call_impl\u001b[0;34m(self, *args, **kwargs)\u001b[0m\n\u001b[1;32m   1499\u001b[0m                 \u001b[0;32mor\u001b[0m \u001b[0m_global_backward_pre_hooks\u001b[0m \u001b[0;32mor\u001b[0m \u001b[0m_global_backward_hooks\u001b[0m\u001b[0;34m\u001b[0m\u001b[0;34m\u001b[0m\u001b[0m\n\u001b[1;32m   1500\u001b[0m                 or _global_forward_hooks or _global_forward_pre_hooks):\n\u001b[0;32m-> 1501\u001b[0;31m             \u001b[0;32mreturn\u001b[0m \u001b[0mforward_call\u001b[0m\u001b[0;34m(\u001b[0m\u001b[0;34m*\u001b[0m\u001b[0margs\u001b[0m\u001b[0;34m,\u001b[0m \u001b[0;34m**\u001b[0m\u001b[0mkwargs\u001b[0m\u001b[0;34m)\u001b[0m\u001b[0;34m\u001b[0m\u001b[0;34m\u001b[0m\u001b[0m\n\u001b[0m\u001b[1;32m   1502\u001b[0m         \u001b[0;31m# Do not call functions when jit is used\u001b[0m\u001b[0;34m\u001b[0m\u001b[0;34m\u001b[0m\u001b[0m\n\u001b[1;32m   1503\u001b[0m         \u001b[0mfull_backward_hooks\u001b[0m\u001b[0;34m,\u001b[0m \u001b[0mnon_full_backward_hooks\u001b[0m \u001b[0;34m=\u001b[0m \u001b[0;34m[\u001b[0m\u001b[0;34m]\u001b[0m\u001b[0;34m,\u001b[0m \u001b[0;34m[\u001b[0m\u001b[0;34m]\u001b[0m\u001b[0;34m\u001b[0m\u001b[0;34m\u001b[0m\u001b[0m\n",
            "\u001b[0;32m/usr/local/lib/python3.10/dist-packages/torch/nn/modules/linear.py\u001b[0m in \u001b[0;36mforward\u001b[0;34m(self, input)\u001b[0m\n\u001b[1;32m    112\u001b[0m \u001b[0;34m\u001b[0m\u001b[0m\n\u001b[1;32m    113\u001b[0m     \u001b[0;32mdef\u001b[0m \u001b[0mforward\u001b[0m\u001b[0;34m(\u001b[0m\u001b[0mself\u001b[0m\u001b[0;34m,\u001b[0m \u001b[0minput\u001b[0m\u001b[0;34m:\u001b[0m \u001b[0mTensor\u001b[0m\u001b[0;34m)\u001b[0m \u001b[0;34m->\u001b[0m \u001b[0mTensor\u001b[0m\u001b[0;34m:\u001b[0m\u001b[0;34m\u001b[0m\u001b[0;34m\u001b[0m\u001b[0m\n\u001b[0;32m--> 114\u001b[0;31m         \u001b[0;32mreturn\u001b[0m \u001b[0mF\u001b[0m\u001b[0;34m.\u001b[0m\u001b[0mlinear\u001b[0m\u001b[0;34m(\u001b[0m\u001b[0minput\u001b[0m\u001b[0;34m,\u001b[0m \u001b[0mself\u001b[0m\u001b[0;34m.\u001b[0m\u001b[0mweight\u001b[0m\u001b[0;34m,\u001b[0m \u001b[0mself\u001b[0m\u001b[0;34m.\u001b[0m\u001b[0mbias\u001b[0m\u001b[0;34m)\u001b[0m\u001b[0;34m\u001b[0m\u001b[0;34m\u001b[0m\u001b[0m\n\u001b[0m\u001b[1;32m    115\u001b[0m \u001b[0;34m\u001b[0m\u001b[0m\n\u001b[1;32m    116\u001b[0m     \u001b[0;32mdef\u001b[0m \u001b[0mextra_repr\u001b[0m\u001b[0;34m(\u001b[0m\u001b[0mself\u001b[0m\u001b[0;34m)\u001b[0m \u001b[0;34m->\u001b[0m \u001b[0mstr\u001b[0m\u001b[0;34m:\u001b[0m\u001b[0;34m\u001b[0m\u001b[0;34m\u001b[0m\u001b[0m\n",
            "\u001b[0;31mRuntimeError\u001b[0m: mat1 and mat2 must have the same dtype"
          ]
        }
      ]
    }
  ]
}