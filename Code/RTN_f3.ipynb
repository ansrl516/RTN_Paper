{
  "nbformat": 4,
  "nbformat_minor": 0,
  "metadata": {
    "colab": {
      "provenance": [],
      "gpuType": "T4",
      "authorship_tag": "ABX9TyNWyfj4lt+S3CPqh0nASC41",
      "include_colab_link": true
    },
    "kernelspec": {
      "name": "python3",
      "display_name": "Python 3"
    },
    "language_info": {
      "name": "python"
    },
    "accelerator": "TPU"
  },
  "cells": [
    {
      "cell_type": "markdown",
      "metadata": {
        "id": "view-in-github",
        "colab_type": "text"
      },
      "source": [
        "<a href=\"https://colab.research.google.com/github/ansrl516/RTN_Paper/blob/main/RTN_f3.ipynb\" target=\"_parent\"><img src=\"https://colab.research.google.com/assets/colab-badge.svg\" alt=\"Open In Colab\"/></a>"
      ]
    },
    {
      "cell_type": "code",
      "execution_count": 1,
      "metadata": {
        "id": "ZIlarDMfPcm-"
      },
      "outputs": [],
      "source": [
        "import torch\n",
        "import math\n",
        "import torch.nn as nn\n",
        "import torch.nn.functional as F\n",
        "import torch.optim as optim\n",
        "import torch.autograd as Variable\n",
        "import numpy as np"
      ]
    },
    {
      "cell_type": "code",
      "source": [
        "device = (\n",
        "    \"cuda\"\n",
        "    if torch.cuda.is_available()\n",
        "    else \"cpu\"\n",
        ")\n",
        "print(f\"Using {device} device\")"
      ],
      "metadata": {
        "colab": {
          "base_uri": "https://localhost:8080/"
        },
        "id": "01iGPDwcPkcd",
        "outputId": "79ff3e0a-c0d6-451f-c4b3-9c8102c0101a"
      },
      "execution_count": 2,
      "outputs": [
        {
          "output_type": "stream",
          "name": "stdout",
          "text": [
            "Using cpu device\n"
          ]
        }
      ]
    },
    {
      "cell_type": "code",
      "source": [
        "class Fig3(nn.Module):\n",
        "\n",
        "    def __init__(self, M, n, EbNo):\n",
        "        super().__init__()\n",
        "        self.M = M\n",
        "        self.n = n\n",
        "        self.b = 1/(2*(math.log2(M)/n)*EbNo)\n",
        "        self.Dense1 = nn.Linear(M,M)\n",
        "        self.relu1 = nn.ReLU()\n",
        "        self.Dense2 = nn.Linear(M,n)\n",
        "        self.BatchNorm = nn.BatchNorm1d(num_features=n, affine=False, track_running_stats=True) # Paper says so...\n",
        "        self.Dense3 = nn.Linear(n,M)\n",
        "        self.relu3 = nn.ReLU()\n",
        "        self.Dense4 = nn.Linear(M,M)\n",
        "        self.softmax = nn.Softmax()\n",
        "\n",
        "    def f(self,x):\n",
        "        x = self.Dense1(x)\n",
        "        x = self.relu1(x)\n",
        "        x = self.Dense2(x)\n",
        "        x = self.BatchNorm(x)\n",
        "        return x\n",
        "\n",
        "    def channel(self,x):\n",
        "        noise = torch.normal(0,math.sqrt(self.b),size=(x.shape)) ## very important\n",
        "        #print(x.shape)\n",
        "        #print(x[0,:])\n",
        "        #print(torch.norm(x))\n",
        "        #print(torch.norm(x[1:20,1])**2 / 20)\n",
        "        noise = noise.to(device)\n",
        "        x = x + noise\n",
        "        return x\n",
        "\n",
        "    def g(self,x):\n",
        "        x = self.Dense3(x)\n",
        "        x = self.relu3(x)\n",
        "        x = self.Dense4(x)\n",
        "        x = self.softmax(x)\n",
        "        return x\n",
        "\n",
        "    def forward(self, x):\n",
        "        x = self.f(x)\n",
        "        x = self.channel(x)\n",
        "        x = self.g(x)\n",
        "        return x"
      ],
      "metadata": {
        "id": "3BzLJAnoPk-M"
      },
      "execution_count": 3,
      "outputs": []
    },
    {
      "cell_type": "code",
      "source": [
        "M = 2**7\n",
        "n = 4\n",
        "EbNo = 10**(-20/10)\n",
        "b = (2*(math.log2(M)/n)*EbNo) ** -1\n",
        "print(b)\n",
        "print(torch.normal(0,math.sqrt(b),size=(n,)))"
      ],
      "metadata": {
        "id": "FWr427r7pYXl"
      },
      "execution_count": null,
      "outputs": []
    },
    {
      "cell_type": "code",
      "source": [
        "# Import Dataset of Epoch = 80, Batch_size = 32, Dataset = 6 * 10^4(Train) / 10^7(Test), Learning Rate = 0.001, Adam Optimizer\n",
        "from torch.utils.data import Dataset\n",
        "from torch.utils.data import DataLoader\n",
        "\n",
        "n, k = 7, 4\n",
        "dataset_num = 10 ** 7\n",
        "data = F.one_hot(torch.randint(high=2**k,size=(dataset_num,)),num_classes=2**k)\n",
        "data = data.to(torch.torch.float32)\n",
        "\n",
        "class CustomDataset(Dataset):\n",
        "    def __init__(self, data):\n",
        "        self.x_data = data\n",
        "        self.y_data = data\n",
        "    def __len__(self):\n",
        "        return len(self.x_data)\n",
        "    def __getitem__(self, idx):\n",
        "        return self.x_data[idx], self.y_data[idx]\n",
        "\n",
        "dataset = CustomDataset(data)\n",
        "dataset_size = len(dataset)\n",
        "train_size = int(0.006 * dataset_size)\n",
        "test_size = dataset_size - train_size\n",
        "train_dataset, test_dataset = torch.utils.data.random_split(dataset, [train_size, test_size])\n",
        "\n",
        "train_dataloader = DataLoader(train_dataset, batch_size=32, shuffle=True, drop_last=True)\n",
        "test_dataloader = DataLoader(test_dataset, batch_size=len(test_dataset))"
      ],
      "metadata": {
        "id": "9Z_Zz1NzP2FA"
      },
      "execution_count": 4,
      "outputs": []
    },
    {
      "cell_type": "code",
      "source": [
        "# Training for EbNo = [-4:8:0.5]\n",
        "EbNo_list = [10 ** (db/10) for db in np.arange(-4.0,8,0.5)]\n",
        "#print(EbNo_list)\n",
        "#EbNo_list = [10 ** (db/10) for db in np.arange(8,12,0.5)]\n",
        "Ps_list = []\n",
        "model = []\n",
        "for EbNo in EbNo_list:\n",
        "    history = []\n",
        "    model.append(Fig3(2**k,n,EbNo))\n",
        "    model[-1].to(device)\n",
        "    criterion = nn.CrossEntropyLoss().to(device)\n",
        "    optimizer = optim.Adam(model[-1].parameters(), lr=0.001)\n",
        "    for epoch in range(80):\n",
        "        print(epoch)\n",
        "        cost = 0.0\n",
        "        i = 0\n",
        "        for (a, (x,y)) in enumerate(train_dataloader):\n",
        "            i += 1\n",
        "            x = x.to(device)\n",
        "            y = y.to(device)\n",
        "\n",
        "            output = model[-1](x)\n",
        "            loss = criterion(output, y)\n",
        "\n",
        "            optimizer.zero_grad()\n",
        "            loss.backward()\n",
        "            optimizer.step()\n",
        "            cost += loss\n",
        "        #print(EbNo, cost/i)\n",
        "    with torch.no_grad():\n",
        "        x, y = dataset[:]\n",
        "        x = x.to(device)\n",
        "        y = y.to(device)\n",
        "        output = model[-1](x)\n",
        "        output_index = np.argmax(output.detach().cpu().numpy(), axis=1)\n",
        "        true_index = np.argmax(y.detach().cpu().numpy(), axis=1)\n",
        "        Ps = len(np.nonzero(output_index - true_index)[0])/y.shape[0]\n",
        "        Ps_list.append(Ps)\n",
        "        print(Ps)\n",
        "\n",
        "#file_name = './Ps_list.txt'\n",
        "#with open(file_name, 'w+') as file:\n",
        "#    file.write('\\n'.join(Ps_list))"
      ],
      "metadata": {
        "colab": {
          "base_uri": "https://localhost:8080/",
          "height": 1000
        },
        "id": "vZFCJWJWQEnG",
        "outputId": "f3806cdc-98f5-4dc0-c54e-c7d17b39a23c"
      },
      "execution_count": 5,
      "outputs": [
        {
          "output_type": "stream",
          "name": "stdout",
          "text": [
            "0\n"
          ]
        },
        {
          "output_type": "stream",
          "name": "stderr",
          "text": [
            "<ipython-input-3-06c7bb814970>:38: UserWarning: Implicit dimension choice for softmax has been deprecated. Change the call to include dim=X as an argument.\n",
            "  x = self.softmax(x)\n"
          ]
        },
        {
          "output_type": "stream",
          "name": "stdout",
          "text": [
            "1\n",
            "2\n",
            "3\n",
            "4\n",
            "5\n",
            "6\n",
            "7\n",
            "8\n",
            "9\n",
            "10\n",
            "11\n",
            "12\n",
            "13\n",
            "14\n",
            "15\n",
            "16\n",
            "17\n",
            "18\n",
            "19\n",
            "20\n",
            "21\n",
            "22\n",
            "23\n",
            "24\n",
            "25\n",
            "26\n",
            "27\n",
            "28\n",
            "29\n",
            "30\n",
            "31\n",
            "32\n",
            "33\n",
            "34\n",
            "35\n",
            "36\n",
            "37\n",
            "38\n"
          ]
        },
        {
          "output_type": "error",
          "ename": "KeyboardInterrupt",
          "evalue": "ignored",
          "traceback": [
            "\u001b[0;31m---------------------------------------------------------------------------\u001b[0m",
            "\u001b[0;31mKeyboardInterrupt\u001b[0m                         Traceback (most recent call last)",
            "\u001b[0;32m<ipython-input-5-359c3b0b17c8>\u001b[0m in \u001b[0;36m<cell line: 7>\u001b[0;34m()\u001b[0m\n\u001b[1;32m     20\u001b[0m             \u001b[0my\u001b[0m \u001b[0;34m=\u001b[0m \u001b[0my\u001b[0m\u001b[0;34m.\u001b[0m\u001b[0mto\u001b[0m\u001b[0;34m(\u001b[0m\u001b[0mdevice\u001b[0m\u001b[0;34m)\u001b[0m\u001b[0;34m\u001b[0m\u001b[0;34m\u001b[0m\u001b[0m\n\u001b[1;32m     21\u001b[0m \u001b[0;34m\u001b[0m\u001b[0m\n\u001b[0;32m---> 22\u001b[0;31m             \u001b[0moutput\u001b[0m \u001b[0;34m=\u001b[0m \u001b[0mmodel\u001b[0m\u001b[0;34m[\u001b[0m\u001b[0;34m-\u001b[0m\u001b[0;36m1\u001b[0m\u001b[0;34m]\u001b[0m\u001b[0;34m(\u001b[0m\u001b[0mx\u001b[0m\u001b[0;34m)\u001b[0m\u001b[0;34m\u001b[0m\u001b[0;34m\u001b[0m\u001b[0m\n\u001b[0m\u001b[1;32m     23\u001b[0m             \u001b[0mloss\u001b[0m \u001b[0;34m=\u001b[0m \u001b[0mcriterion\u001b[0m\u001b[0;34m(\u001b[0m\u001b[0moutput\u001b[0m\u001b[0;34m,\u001b[0m \u001b[0my\u001b[0m\u001b[0;34m)\u001b[0m\u001b[0;34m\u001b[0m\u001b[0;34m\u001b[0m\u001b[0m\n\u001b[1;32m     24\u001b[0m \u001b[0;34m\u001b[0m\u001b[0m\n",
            "\u001b[0;32m/usr/local/lib/python3.10/dist-packages/torch/nn/modules/module.py\u001b[0m in \u001b[0;36m_call_impl\u001b[0;34m(self, *args, **kwargs)\u001b[0m\n\u001b[1;32m   1499\u001b[0m                 \u001b[0;32mor\u001b[0m \u001b[0m_global_backward_pre_hooks\u001b[0m \u001b[0;32mor\u001b[0m \u001b[0m_global_backward_hooks\u001b[0m\u001b[0;34m\u001b[0m\u001b[0;34m\u001b[0m\u001b[0m\n\u001b[1;32m   1500\u001b[0m                 or _global_forward_hooks or _global_forward_pre_hooks):\n\u001b[0;32m-> 1501\u001b[0;31m             \u001b[0;32mreturn\u001b[0m \u001b[0mforward_call\u001b[0m\u001b[0;34m(\u001b[0m\u001b[0;34m*\u001b[0m\u001b[0margs\u001b[0m\u001b[0;34m,\u001b[0m \u001b[0;34m**\u001b[0m\u001b[0mkwargs\u001b[0m\u001b[0;34m)\u001b[0m\u001b[0;34m\u001b[0m\u001b[0;34m\u001b[0m\u001b[0m\n\u001b[0m\u001b[1;32m   1502\u001b[0m         \u001b[0;31m# Do not call functions when jit is used\u001b[0m\u001b[0;34m\u001b[0m\u001b[0;34m\u001b[0m\u001b[0m\n\u001b[1;32m   1503\u001b[0m         \u001b[0mfull_backward_hooks\u001b[0m\u001b[0;34m,\u001b[0m \u001b[0mnon_full_backward_hooks\u001b[0m \u001b[0;34m=\u001b[0m \u001b[0;34m[\u001b[0m\u001b[0;34m]\u001b[0m\u001b[0;34m,\u001b[0m \u001b[0;34m[\u001b[0m\u001b[0;34m]\u001b[0m\u001b[0;34m\u001b[0m\u001b[0;34m\u001b[0m\u001b[0m\n",
            "\u001b[0;32m<ipython-input-3-06c7bb814970>\u001b[0m in \u001b[0;36mforward\u001b[0;34m(self, x)\u001b[0m\n\u001b[1;32m     42\u001b[0m         \u001b[0mx\u001b[0m \u001b[0;34m=\u001b[0m \u001b[0mself\u001b[0m\u001b[0;34m.\u001b[0m\u001b[0mf\u001b[0m\u001b[0;34m(\u001b[0m\u001b[0mx\u001b[0m\u001b[0;34m)\u001b[0m\u001b[0;34m\u001b[0m\u001b[0;34m\u001b[0m\u001b[0m\n\u001b[1;32m     43\u001b[0m         \u001b[0mx\u001b[0m \u001b[0;34m=\u001b[0m \u001b[0mself\u001b[0m\u001b[0;34m.\u001b[0m\u001b[0mchannel\u001b[0m\u001b[0;34m(\u001b[0m\u001b[0mx\u001b[0m\u001b[0;34m)\u001b[0m\u001b[0;34m\u001b[0m\u001b[0;34m\u001b[0m\u001b[0m\n\u001b[0;32m---> 44\u001b[0;31m         \u001b[0mx\u001b[0m \u001b[0;34m=\u001b[0m \u001b[0mself\u001b[0m\u001b[0;34m.\u001b[0m\u001b[0mg\u001b[0m\u001b[0;34m(\u001b[0m\u001b[0mx\u001b[0m\u001b[0;34m)\u001b[0m\u001b[0;34m\u001b[0m\u001b[0;34m\u001b[0m\u001b[0m\n\u001b[0m\u001b[1;32m     45\u001b[0m         \u001b[0;32mreturn\u001b[0m \u001b[0mx\u001b[0m\u001b[0;34m\u001b[0m\u001b[0;34m\u001b[0m\u001b[0m\n",
            "\u001b[0;32m<ipython-input-3-06c7bb814970>\u001b[0m in \u001b[0;36mg\u001b[0;34m(self, x)\u001b[0m\n\u001b[1;32m     33\u001b[0m \u001b[0;34m\u001b[0m\u001b[0m\n\u001b[1;32m     34\u001b[0m     \u001b[0;32mdef\u001b[0m \u001b[0mg\u001b[0m\u001b[0;34m(\u001b[0m\u001b[0mself\u001b[0m\u001b[0;34m,\u001b[0m\u001b[0mx\u001b[0m\u001b[0;34m)\u001b[0m\u001b[0;34m:\u001b[0m\u001b[0;34m\u001b[0m\u001b[0;34m\u001b[0m\u001b[0m\n\u001b[0;32m---> 35\u001b[0;31m         \u001b[0mx\u001b[0m \u001b[0;34m=\u001b[0m \u001b[0mself\u001b[0m\u001b[0;34m.\u001b[0m\u001b[0mDense3\u001b[0m\u001b[0;34m(\u001b[0m\u001b[0mx\u001b[0m\u001b[0;34m)\u001b[0m\u001b[0;34m\u001b[0m\u001b[0;34m\u001b[0m\u001b[0m\n\u001b[0m\u001b[1;32m     36\u001b[0m         \u001b[0mx\u001b[0m \u001b[0;34m=\u001b[0m \u001b[0mself\u001b[0m\u001b[0;34m.\u001b[0m\u001b[0mrelu3\u001b[0m\u001b[0;34m(\u001b[0m\u001b[0mx\u001b[0m\u001b[0;34m)\u001b[0m\u001b[0;34m\u001b[0m\u001b[0;34m\u001b[0m\u001b[0m\n\u001b[1;32m     37\u001b[0m         \u001b[0mx\u001b[0m \u001b[0;34m=\u001b[0m \u001b[0mself\u001b[0m\u001b[0;34m.\u001b[0m\u001b[0mDense4\u001b[0m\u001b[0;34m(\u001b[0m\u001b[0mx\u001b[0m\u001b[0;34m)\u001b[0m\u001b[0;34m\u001b[0m\u001b[0;34m\u001b[0m\u001b[0m\n",
            "\u001b[0;32m/usr/local/lib/python3.10/dist-packages/torch/nn/modules/module.py\u001b[0m in \u001b[0;36m_call_impl\u001b[0;34m(self, *args, **kwargs)\u001b[0m\n\u001b[1;32m   1499\u001b[0m                 \u001b[0;32mor\u001b[0m \u001b[0m_global_backward_pre_hooks\u001b[0m \u001b[0;32mor\u001b[0m \u001b[0m_global_backward_hooks\u001b[0m\u001b[0;34m\u001b[0m\u001b[0;34m\u001b[0m\u001b[0m\n\u001b[1;32m   1500\u001b[0m                 or _global_forward_hooks or _global_forward_pre_hooks):\n\u001b[0;32m-> 1501\u001b[0;31m             \u001b[0;32mreturn\u001b[0m \u001b[0mforward_call\u001b[0m\u001b[0;34m(\u001b[0m\u001b[0;34m*\u001b[0m\u001b[0margs\u001b[0m\u001b[0;34m,\u001b[0m \u001b[0;34m**\u001b[0m\u001b[0mkwargs\u001b[0m\u001b[0;34m)\u001b[0m\u001b[0;34m\u001b[0m\u001b[0;34m\u001b[0m\u001b[0m\n\u001b[0m\u001b[1;32m   1502\u001b[0m         \u001b[0;31m# Do not call functions when jit is used\u001b[0m\u001b[0;34m\u001b[0m\u001b[0;34m\u001b[0m\u001b[0m\n\u001b[1;32m   1503\u001b[0m         \u001b[0mfull_backward_hooks\u001b[0m\u001b[0;34m,\u001b[0m \u001b[0mnon_full_backward_hooks\u001b[0m \u001b[0;34m=\u001b[0m \u001b[0;34m[\u001b[0m\u001b[0;34m]\u001b[0m\u001b[0;34m,\u001b[0m \u001b[0;34m[\u001b[0m\u001b[0;34m]\u001b[0m\u001b[0;34m\u001b[0m\u001b[0;34m\u001b[0m\u001b[0m\n",
            "\u001b[0;32m/usr/local/lib/python3.10/dist-packages/torch/nn/modules/linear.py\u001b[0m in \u001b[0;36mforward\u001b[0;34m(self, input)\u001b[0m\n\u001b[1;32m    112\u001b[0m \u001b[0;34m\u001b[0m\u001b[0m\n\u001b[1;32m    113\u001b[0m     \u001b[0;32mdef\u001b[0m \u001b[0mforward\u001b[0m\u001b[0;34m(\u001b[0m\u001b[0mself\u001b[0m\u001b[0;34m,\u001b[0m \u001b[0minput\u001b[0m\u001b[0;34m:\u001b[0m \u001b[0mTensor\u001b[0m\u001b[0;34m)\u001b[0m \u001b[0;34m->\u001b[0m \u001b[0mTensor\u001b[0m\u001b[0;34m:\u001b[0m\u001b[0;34m\u001b[0m\u001b[0;34m\u001b[0m\u001b[0m\n\u001b[0;32m--> 114\u001b[0;31m         \u001b[0;32mreturn\u001b[0m \u001b[0mF\u001b[0m\u001b[0;34m.\u001b[0m\u001b[0mlinear\u001b[0m\u001b[0;34m(\u001b[0m\u001b[0minput\u001b[0m\u001b[0;34m,\u001b[0m \u001b[0mself\u001b[0m\u001b[0;34m.\u001b[0m\u001b[0mweight\u001b[0m\u001b[0;34m,\u001b[0m \u001b[0mself\u001b[0m\u001b[0;34m.\u001b[0m\u001b[0mbias\u001b[0m\u001b[0;34m)\u001b[0m\u001b[0;34m\u001b[0m\u001b[0;34m\u001b[0m\u001b[0m\n\u001b[0m\u001b[1;32m    115\u001b[0m \u001b[0;34m\u001b[0m\u001b[0m\n\u001b[1;32m    116\u001b[0m     \u001b[0;32mdef\u001b[0m \u001b[0mextra_repr\u001b[0m\u001b[0;34m(\u001b[0m\u001b[0mself\u001b[0m\u001b[0;34m)\u001b[0m \u001b[0;34m->\u001b[0m \u001b[0mstr\u001b[0m\u001b[0;34m:\u001b[0m\u001b[0;34m\u001b[0m\u001b[0;34m\u001b[0m\u001b[0m\n",
            "\u001b[0;31mKeyboardInterrupt\u001b[0m: "
          ]
        }
      ]
    },
    {
      "cell_type": "code",
      "source": [
        "    y = test_dataset[1:600][1]\n",
        "    v = torch.tensor([[0,1,0,0,0,0,0] for a in range(3)])\n",
        "    print(y)\n",
        "    output = model[8](y)\n",
        "    print(output)\n",
        "    output_index = np.argmax(output.detach().numpy(), axis=1)\n",
        "    print(output_index)\n",
        "    true_index = np.argmax(y.detach().numpy(), axis=1)\n",
        "    print(true_index)\n",
        "    Ps = len(np.nonzero(output_index - true_index)[0])/y.shape[0]\n",
        "    print(Ps)\n",
        "    print(model[8].channel(v)-v)"
      ],
      "metadata": {
        "id": "Xi7WtVyxl6Qo"
      },
      "execution_count": null,
      "outputs": []
    },
    {
      "cell_type": "code",
      "source": [
        "subtable = [] # subtable for (7,4) Hamming code bit\n",
        "table = [] # table for (7,4) Hamming code bits' BPSK symbol\n",
        "for a in range(2**4):\n",
        "    x = [int(i) for i in '{0:04b}'.format(a)]\n",
        "    p1, p2, p3 = (x[0]+x[1]+x[3])%2, (x[0]+x[2]+x[3])%2, (x[1]+x[2]+x[3])%2\n",
        "    subtable.append(np.array([p1,p2,x[0],p3,x[1],x[2],x[3]]))\n",
        "    table.append(np.array([p1-0.5,p2-0.5,x[0]-0.5,p3-0.5,x[1]-0.5,x[2]-0.5,x[3]-0.5])*math.sqrt(2))\n",
        "\n",
        "def indexing(Map,y): # Map has numpy list as element, y is numpy list\n",
        "    z = [y - Map[i] for i in range(16)]# broadcasting\n",
        "    z = np.sum(np.square(z),-1)\n",
        "    z = np.transpose(z,(1,0))\n",
        "    z = np.argmin(z, -1)\n",
        "    return z"
      ],
      "metadata": {
        "id": "FWAcchfYQ6At"
      },
      "execution_count": 218,
      "outputs": []
    },
    {
      "cell_type": "code",
      "source": [
        "a=np.array([[1,1,1],[2,2,2],[3,3,3],[4,4,4]])\n",
        "b=[[1,1,1],[2,2,2]]\n",
        "#print(a-torch.tensor(b)[0])\n",
        "c= [a-np.array(b)[i] for i in range(len(b))]\n",
        "print(c)\n",
        "c = np.sum(c,-1)\n",
        "print(c)\n",
        "z= np.transpose(c,(1,0))\n",
        "print(z)\n",
        "print(np.argmin(z,-1))\n",
        "print(a[:,1])"
      ],
      "metadata": {
        "colab": {
          "base_uri": "https://localhost:8080/"
        },
        "id": "HWqKXIkj27il",
        "outputId": "67abc703-17bf-4e18-a94b-95aa9ed2f757"
      },
      "execution_count": 110,
      "outputs": [
        {
          "output_type": "stream",
          "name": "stdout",
          "text": [
            "[array([[0, 0, 0],\n",
            "       [1, 1, 1],\n",
            "       [2, 2, 2],\n",
            "       [3, 3, 3]]), array([[-1, -1, -1],\n",
            "       [ 0,  0,  0],\n",
            "       [ 1,  1,  1],\n",
            "       [ 2,  2,  2]])]\n",
            "[[ 0  3  6  9]\n",
            " [-3  0  3  6]]\n",
            "[[ 0 -3]\n",
            " [ 3  0]\n",
            " [ 6  3]\n",
            " [ 9  6]]\n",
            "[1 1 1 1]\n",
            "[1 2 3 4]\n"
          ]
        }
      ]
    },
    {
      "cell_type": "code",
      "source": [
        "def dec2bin(x, bits):\n",
        "    # mask = 2 ** torch.arange(bits).to(x.device, x.dtype)\n",
        "    mask = 2 ** torch.arange(bits - 1, -1, -1).to(x.device, x.dtype)\n",
        "    return x.unsqueeze(-1).bitwise_and(mask).ne(0).float()\n",
        "def bin2dec(b, bits):\n",
        "    mask = 2 ** torch.arange(bits - 1, -1, -1).to(b.device, b.dtype)\n",
        "    return torch.sum(mask * b, -1)\n",
        "print(bin2dec(torch.tensor([[0,1,1,0],[0,1,1,0]]),4))"
      ],
      "metadata": {
        "colab": {
          "base_uri": "https://localhost:8080/"
        },
        "id": "qbo8O4Vxz67E",
        "outputId": "25c3e472-b7fb-452b-c88d-f931f5969149"
      },
      "execution_count": 219,
      "outputs": [
        {
          "output_type": "stream",
          "name": "stdout",
          "text": [
            "tensor([6, 6])\n"
          ]
        }
      ]
    },
    {
      "cell_type": "code",
      "source": [
        "## Uncoded BPSK (n,n)\n",
        "def Transceiver3(x, n, EbNo): # x = input numpy list, else parameter\n",
        "    x = 2*x-1\n",
        "    b = 1/(2*(n/n)*EbNo)\n",
        "    noise = np.random.normal(0,math.sqrt(b),size=(x.shape))\n",
        "    x = x + noise\n",
        "    x = (np.sign(x)+1)/2\n",
        "    return bin2dec(x,n)"
      ],
      "metadata": {
        "id": "ZfaPcYosfvM-"
      },
      "execution_count": 220,
      "outputs": []
    },
    {
      "cell_type": "code",
      "source": [
        "## Hamming BPSK (7,4) Hard Decision\n",
        "def Transceiver3a_1(x, EbNo): # x as 4 bit list, hamming code as p1,p2,x[0],p3,x[1],x[2],x[3]\n",
        "    p1, p2, p3 = (x[:,0]+x[:,1]+x[:,3])%2, (x[:,0]+x[:,2]+x[:,3])%2, (x[:,1]+x[:,2]+x[:,3])%2\n",
        "    #print(p1)\n",
        "    c = np.vstack((p1-0.5,p2-0.5,x[:,0]-0.5,p3-0.5,x[:,1]-0.5,x[:,2]-0.5,x[:,3]-0.5)) * 2\n",
        "    #print(c)\n",
        "    #print(c.shape)\n",
        "    c = np.transpose(c,(1,0))\n",
        "    #print(c)\n",
        "    b = (2*(4/7)*EbNo) ** -1\n",
        "    noise = np.random.normal(0,math.sqrt(b),size=(x.shape[0],7))\n",
        "    r = c + noise\n",
        "    y = np.sign(r)\n",
        "    #print(y)\n",
        "    return indexing(table,y)"
      ],
      "metadata": {
        "id": "ZDoWNPkcf0SE"
      },
      "execution_count": 221,
      "outputs": []
    },
    {
      "cell_type": "code",
      "source": [
        "## Hamming BPSK (7,4) Soft Decision\n",
        "def Transceiver3a_2(x, EbNo):\n",
        "    p1, p2, p3 = (x[:,0]+x[:,1]+x[:,3])%2, (x[:,0]+x[:,2]+x[:,3])%2, (x[:,1]+x[:,2]+x[:,3])%2\n",
        "    c = np.vstack((p1-0.5,p2-0.5,x[:,0]-0.5,p3-0.5,x[:,1]-0.5,x[:,2]-0.5,x[:,3]-0.5)) * 2\n",
        "    c = np.transpose(c,(1,0))\n",
        "    b = (2*(4/7)*EbNo) ** -1\n",
        "    noise = np.random.normal(0,math.sqrt(b),size=(x.shape[0],7))\n",
        "    r = c + noise\n",
        "    return indexing(table,r)"
      ],
      "metadata": {
        "id": "9GBYQC4Rf3O9"
      },
      "execution_count": 222,
      "outputs": []
    },
    {
      "cell_type": "code",
      "source": [
        "import random\n",
        "test_dataset_int = []\n",
        "test_dataset_bit = []\n",
        "for x in range(10**6):\n",
        "    intx = random.randint(0,15)\n",
        "    test_dataset_int.append(intx)\n",
        "test_dataset_int_np = np.array(test_dataset_int)\n",
        "test_dataset_bit_np = np.array(test_dataset_bit)\n",
        "test_dataset_int = torch.tensor(test_dataset_int)\n",
        "test_dataset_bit = dec2bin(test_dataset_int,4)\n",
        "print(test_dataset_bit[0],test_dataset_int[0])"
      ],
      "metadata": {
        "colab": {
          "base_uri": "https://localhost:8080/"
        },
        "id": "O23khGn92Yon",
        "outputId": "d7bf839c-8ef2-42ab-9c24-c48a8491aafe"
      },
      "execution_count": 223,
      "outputs": [
        {
          "output_type": "stream",
          "name": "stdout",
          "text": [
            "tensor([1., 0., 1., 1.]) tensor(11)\n"
          ]
        }
      ]
    },
    {
      "cell_type": "code",
      "source": [
        "EbNo_list = [10 ** (db/10) for db in np.arange(-4,8,0.5)]\n",
        "print(EbNo_list)\n",
        "P_uncoded4_list = []\n",
        "for EbNo in EbNo_list:\n",
        "    x, y = test_dataset_bit, test_dataset_int\n",
        "    x = x.to(device)\n",
        "    output_index = Transceiver3(x,4,EbNo).detach().numpy()\n",
        "    true_index = y.numpy()\n",
        "    h = np.nonzero(output_index - true_index)[0]\n",
        "    Ps = len(h)/x.shape[0]\n",
        "    P_uncoded4_list.append(Ps)\n",
        "print(P_uncoded4_list)"
      ],
      "metadata": {
        "id": "l10aynjUgHmJ",
        "colab": {
          "base_uri": "https://localhost:8080/"
        },
        "outputId": "fae08227-9ca8-44ce-8e23-3cce2be4583b"
      },
      "execution_count": 224,
      "outputs": [
        {
          "output_type": "stream",
          "name": "stdout",
          "text": [
            "[0.3981071705534972, 0.44668359215096315, 0.5011872336272722, 0.5623413251903491, 0.6309573444801932, 0.7079457843841379, 0.7943282347242815, 0.8912509381337456, 1.0, 1.1220184543019633, 1.2589254117941673, 1.4125375446227544, 1.5848931924611136, 1.7782794100389228, 1.9952623149688795, 2.2387211385683394, 2.51188643150958, 2.8183829312644537, 3.1622776601683795, 3.548133892335755, 3.9810717055349722, 4.466835921509632, 5.011872336272722, 5.623413251903491]\n",
            "[0.560833, 0.531246, 0.498593, 0.464243, 0.428938, 0.392463, 0.354604, 0.317806, 0.279894, 0.242532, 0.206817, 0.173222, 0.141929, 0.11378, 0.087976, 0.067044, 0.049255, 0.0345, 0.023632, 0.015551, 0.009592, 0.005562, 0.003072, 0.001613]\n"
          ]
        }
      ]
    },
    {
      "cell_type": "code",
      "source": [
        "print(x[1:10])\n",
        "print(Transceiver3a_1(x[1:10],10))\n",
        "print(y[1:10])\n",
        "print(y-)"
      ],
      "metadata": {
        "id": "lkW3DUivHF5Z"
      },
      "execution_count": null,
      "outputs": []
    },
    {
      "cell_type": "code",
      "source": [
        "EbNo_list = [10 ** (db/10) for db in np.arange(-4,8,0.5)]\n",
        "P_HardHamming_list = []\n",
        "for EbNo in EbNo_list:\n",
        "    x, y = test_dataset_bit, test_dataset_int\n",
        "    output_index = Transceiver3a_1(x,EbNo)\n",
        "    true_index = y.numpy()\n",
        "    h = np.nonzero(output_index - true_index)[0]\n",
        "    Ps = len(h)/x.shape[0]\n",
        "    print(Ps)\n",
        "    P_HardHamming_list.append(Ps)"
      ],
      "metadata": {
        "id": "1FWR73vNdj3R",
        "colab": {
          "base_uri": "https://localhost:8080/"
        },
        "outputId": "a59ca5db-b6ea-403a-8011-c1be99a29007"
      },
      "execution_count": 225,
      "outputs": [
        {
          "output_type": "stream",
          "name": "stdout",
          "text": [
            "0.555528\n",
            "0.523638\n",
            "0.490202\n",
            "0.454193\n",
            "0.417151\n",
            "0.379843\n",
            "0.340719\n",
            "0.300796\n",
            "0.26286\n",
            "0.225249\n",
            "0.188776\n",
            "0.154596\n",
            "0.123373\n",
            "0.096315\n",
            "0.071959\n",
            "0.052469\n",
            "0.036523\n",
            "0.024493\n",
            "0.015799\n",
            "0.009468\n",
            "0.005399\n",
            "0.002723\n",
            "0.001405\n",
            "0.000724\n"
          ]
        }
      ]
    },
    {
      "cell_type": "code",
      "source": [
        "EbNo_list = [10 ** (db/10) for db in np.arange(-4,8,0.5)]\n",
        "P_SoftHamming_list = []\n",
        "for EbNo in EbNo_list:\n",
        "    x, y = test_dataset_bit, test_dataset_int\n",
        "    output_index = Transceiver3a_2(x,EbNo)\n",
        "    true_index = y.numpy()\n",
        "    h = np.nonzero(output_index - true_index)[0]\n",
        "    Ps = len(h)/x.shape[0]\n",
        "    print(Ps)\n",
        "    P_SoftHamming_list.append(Ps)"
      ],
      "metadata": {
        "id": "q6wQSfCDdwB9",
        "colab": {
          "base_uri": "https://localhost:8080/"
        },
        "outputId": "792ecca0-fe16-4474-ab70-28317deebb41"
      },
      "execution_count": 226,
      "outputs": [
        {
          "output_type": "stream",
          "name": "stdout",
          "text": [
            "0.486722\n",
            "0.45088\n",
            "0.413846\n",
            "0.375152\n",
            "0.333643\n",
            "0.294194\n",
            "0.255374\n",
            "0.215302\n",
            "0.180175\n",
            "0.145515\n",
            "0.114226\n",
            "0.086834\n",
            "0.063722\n",
            "0.04519\n",
            "0.030252\n",
            "0.019594\n",
            "0.011713\n",
            "0.006738\n",
            "0.003465\n",
            "0.001762\n",
            "0.000767\n",
            "0.000352\n",
            "0.000133\n",
            "3.4e-05\n"
          ]
        }
      ]
    },
    {
      "cell_type": "code",
      "source": [
        "# Plot Fig3-a\n",
        "import matplotlib.pyplot as plt\n",
        "plt.yscale(\"log\")\n",
        "plt.plot(np.arange(-4,8,0.5),Ps_list,'o-',label=\"Autoencoder (7,4)\")\n",
        "plt.plot(np.arange(-4,8,0.5),P_SoftHamming_list,'-o',label=\"Hamming (7,4) MLD\")\n",
        "plt.plot(np.arange(-4,8,0.5),P_HardHamming_list,'-o',label=\"Hamming (7,4) Hard Decision\")\n",
        "plt.plot(np.arange(-4,8,0.5),P_uncoded4_list,'-o',label=\"Uncoded BPSK (4,4)\")\n",
        "plt.xlabel('Eb/No[dB]')\n",
        "plt.ylabel('Block error rate')\n",
        "plt.legend(['Autoencoder(7,4)','Hamming(7,4) MLD','Hamming (7,4) Hard Decision','Uncoded BPSK (4,4)'])\n",
        "plt.show()"
      ],
      "metadata": {
        "colab": {
          "base_uri": "https://localhost:8080/",
          "height": 449
        },
        "id": "r5f4LZ0Lmg7V",
        "outputId": "de1c0153-2423-412d-9471-66990d04fc8a"
      },
      "execution_count": 227,
      "outputs": [
        {
          "output_type": "display_data",
          "data": {
            "text/plain": [
              "<Figure size 640x480 with 1 Axes>"
            ],
            "image/png": "[encoded data removed]"
          },
          "metadata": {}
        }
      ]
    },
    {
      "cell_type": "code",
      "source": [
        "# Draw Plot\n",
        "n = 4\n",
        "A = [torch.tensor([int(i) for i in '{0:04b}'.format(a)]) for a in range(2**n)]\n",
        "coord = [model[0].f(a) for a in A]"
      ],
      "metadata": {
        "id": "0cjwcx7TeZ5i",
        "colab": {
          "base_uri": "https://localhost:8080/",
          "height": 362
        },
        "outputId": "66532e1b-458a-4058-bd9a-b806da84f387"
      },
      "execution_count": 232,
      "outputs": [
        {
          "output_type": "error",
          "ename": "RuntimeError",
          "evalue": "ignored",
          "traceback": [
            "\u001b[0;31m---------------------------------------------------------------------------\u001b[0m",
            "\u001b[0;31mRuntimeError\u001b[0m                              Traceback (most recent call last)",
            "\u001b[0;32m<ipython-input-232-7a1ca35dba09>\u001b[0m in \u001b[0;36m<cell line: 4>\u001b[0;34m()\u001b[0m\n\u001b[1;32m      2\u001b[0m \u001b[0mn\u001b[0m \u001b[0;34m=\u001b[0m \u001b[0;36m4\u001b[0m\u001b[0;34m\u001b[0m\u001b[0;34m\u001b[0m\u001b[0m\n\u001b[1;32m      3\u001b[0m \u001b[0mA\u001b[0m \u001b[0;34m=\u001b[0m \u001b[0;34m[\u001b[0m\u001b[0mtorch\u001b[0m\u001b[0;34m.\u001b[0m\u001b[0mtensor\u001b[0m\u001b[0;34m(\u001b[0m\u001b[0;34m[\u001b[0m\u001b[0mint\u001b[0m\u001b[0;34m(\u001b[0m\u001b[0mi\u001b[0m\u001b[0;34m)\u001b[0m \u001b[0;32mfor\u001b[0m \u001b[0mi\u001b[0m \u001b[0;32min\u001b[0m \u001b[0;34m'{0:04b}'\u001b[0m\u001b[0;34m.\u001b[0m\u001b[0mformat\u001b[0m\u001b[0;34m(\u001b[0m\u001b[0ma\u001b[0m\u001b[0;34m)\u001b[0m\u001b[0;34m]\u001b[0m\u001b[0;34m)\u001b[0m \u001b[0;32mfor\u001b[0m \u001b[0ma\u001b[0m \u001b[0;32min\u001b[0m \u001b[0mrange\u001b[0m\u001b[0;34m(\u001b[0m\u001b[0;36m2\u001b[0m\u001b[0;34m**\u001b[0m\u001b[0mn\u001b[0m\u001b[0;34m)\u001b[0m\u001b[0;34m]\u001b[0m\u001b[0;34m\u001b[0m\u001b[0;34m\u001b[0m\u001b[0m\n\u001b[0;32m----> 4\u001b[0;31m \u001b[0mcoord\u001b[0m \u001b[0;34m=\u001b[0m \u001b[0;34m[\u001b[0m\u001b[0mmodel\u001b[0m\u001b[0;34m[\u001b[0m\u001b[0;36m0\u001b[0m\u001b[0;34m]\u001b[0m\u001b[0;34m.\u001b[0m\u001b[0mf\u001b[0m\u001b[0;34m(\u001b[0m\u001b[0ma\u001b[0m\u001b[0;34m)\u001b[0m \u001b[0;32mfor\u001b[0m \u001b[0ma\u001b[0m \u001b[0;32min\u001b[0m \u001b[0mA\u001b[0m\u001b[0;34m]\u001b[0m\u001b[0;34m\u001b[0m\u001b[0;34m\u001b[0m\u001b[0m\n\u001b[0m",
            "\u001b[0;32m<ipython-input-232-7a1ca35dba09>\u001b[0m in \u001b[0;36m<listcomp>\u001b[0;34m(.0)\u001b[0m\n\u001b[1;32m      2\u001b[0m \u001b[0mn\u001b[0m \u001b[0;34m=\u001b[0m \u001b[0;36m4\u001b[0m\u001b[0;34m\u001b[0m\u001b[0;34m\u001b[0m\u001b[0m\n\u001b[1;32m      3\u001b[0m \u001b[0mA\u001b[0m \u001b[0;34m=\u001b[0m \u001b[0;34m[\u001b[0m\u001b[0mtorch\u001b[0m\u001b[0;34m.\u001b[0m\u001b[0mtensor\u001b[0m\u001b[0;34m(\u001b[0m\u001b[0;34m[\u001b[0m\u001b[0mint\u001b[0m\u001b[0;34m(\u001b[0m\u001b[0mi\u001b[0m\u001b[0;34m)\u001b[0m \u001b[0;32mfor\u001b[0m \u001b[0mi\u001b[0m \u001b[0;32min\u001b[0m \u001b[0;34m'{0:04b}'\u001b[0m\u001b[0;34m.\u001b[0m\u001b[0mformat\u001b[0m\u001b[0;34m(\u001b[0m\u001b[0ma\u001b[0m\u001b[0;34m)\u001b[0m\u001b[0;34m]\u001b[0m\u001b[0;34m)\u001b[0m \u001b[0;32mfor\u001b[0m \u001b[0ma\u001b[0m \u001b[0;32min\u001b[0m \u001b[0mrange\u001b[0m\u001b[0;34m(\u001b[0m\u001b[0;36m2\u001b[0m\u001b[0;34m**\u001b[0m\u001b[0mn\u001b[0m\u001b[0;34m)\u001b[0m\u001b[0;34m]\u001b[0m\u001b[0;34m\u001b[0m\u001b[0;34m\u001b[0m\u001b[0m\n\u001b[0;32m----> 4\u001b[0;31m \u001b[0mcoord\u001b[0m \u001b[0;34m=\u001b[0m \u001b[0;34m[\u001b[0m\u001b[0mmodel\u001b[0m\u001b[0;34m[\u001b[0m\u001b[0;36m0\u001b[0m\u001b[0;34m]\u001b[0m\u001b[0;34m.\u001b[0m\u001b[0mf\u001b[0m\u001b[0;34m(\u001b[0m\u001b[0ma\u001b[0m\u001b[0;34m)\u001b[0m \u001b[0;32mfor\u001b[0m \u001b[0ma\u001b[0m \u001b[0;32min\u001b[0m \u001b[0mA\u001b[0m\u001b[0;34m]\u001b[0m\u001b[0;34m\u001b[0m\u001b[0;34m\u001b[0m\u001b[0m\n\u001b[0m",
            "\u001b[0;32m<ipython-input-228-557f2b142cba>\u001b[0m in \u001b[0;36mf\u001b[0;34m(self, x)\u001b[0m\n\u001b[1;32m     16\u001b[0m \u001b[0;34m\u001b[0m\u001b[0m\n\u001b[1;32m     17\u001b[0m     \u001b[0;32mdef\u001b[0m \u001b[0mf\u001b[0m\u001b[0;34m(\u001b[0m\u001b[0mself\u001b[0m\u001b[0;34m,\u001b[0m\u001b[0mx\u001b[0m\u001b[0;34m)\u001b[0m\u001b[0;34m:\u001b[0m\u001b[0;34m\u001b[0m\u001b[0;34m\u001b[0m\u001b[0m\n\u001b[0;32m---> 18\u001b[0;31m         \u001b[0mx\u001b[0m \u001b[0;34m=\u001b[0m \u001b[0mself\u001b[0m\u001b[0;34m.\u001b[0m\u001b[0mDense1\u001b[0m\u001b[0;34m(\u001b[0m\u001b[0mx\u001b[0m\u001b[0;34m)\u001b[0m\u001b[0;34m\u001b[0m\u001b[0;34m\u001b[0m\u001b[0m\n\u001b[0m\u001b[1;32m     19\u001b[0m         \u001b[0mx\u001b[0m \u001b[0;34m=\u001b[0m \u001b[0mself\u001b[0m\u001b[0;34m.\u001b[0m\u001b[0mrelu1\u001b[0m\u001b[0;34m(\u001b[0m\u001b[0mx\u001b[0m\u001b[0;34m)\u001b[0m\u001b[0;34m\u001b[0m\u001b[0;34m\u001b[0m\u001b[0m\n\u001b[1;32m     20\u001b[0m         \u001b[0mx\u001b[0m \u001b[0;34m=\u001b[0m \u001b[0mself\u001b[0m\u001b[0;34m.\u001b[0m\u001b[0mDense2\u001b[0m\u001b[0;34m(\u001b[0m\u001b[0mx\u001b[0m\u001b[0;34m)\u001b[0m\u001b[0;34m\u001b[0m\u001b[0;34m\u001b[0m\u001b[0m\n",
            "\u001b[0;32m/usr/local/lib/python3.10/dist-packages/torch/nn/modules/module.py\u001b[0m in \u001b[0;36m_call_impl\u001b[0;34m(self, *args, **kwargs)\u001b[0m\n\u001b[1;32m   1499\u001b[0m                 \u001b[0;32mor\u001b[0m \u001b[0m_global_backward_pre_hooks\u001b[0m \u001b[0;32mor\u001b[0m \u001b[0m_global_backward_hooks\u001b[0m\u001b[0;34m\u001b[0m\u001b[0;34m\u001b[0m\u001b[0m\n\u001b[1;32m   1500\u001b[0m                 or _global_forward_hooks or _global_forward_pre_hooks):\n\u001b[0;32m-> 1501\u001b[0;31m             \u001b[0;32mreturn\u001b[0m \u001b[0mforward_call\u001b[0m\u001b[0;34m(\u001b[0m\u001b[0;34m*\u001b[0m\u001b[0margs\u001b[0m\u001b[0;34m,\u001b[0m \u001b[0;34m**\u001b[0m\u001b[0mkwargs\u001b[0m\u001b[0;34m)\u001b[0m\u001b[0;34m\u001b[0m\u001b[0;34m\u001b[0m\u001b[0m\n\u001b[0m\u001b[1;32m   1502\u001b[0m         \u001b[0;31m# Do not call functions when jit is used\u001b[0m\u001b[0;34m\u001b[0m\u001b[0;34m\u001b[0m\u001b[0m\n\u001b[1;32m   1503\u001b[0m         \u001b[0mfull_backward_hooks\u001b[0m\u001b[0;34m,\u001b[0m \u001b[0mnon_full_backward_hooks\u001b[0m \u001b[0;34m=\u001b[0m \u001b[0;34m[\u001b[0m\u001b[0;34m]\u001b[0m\u001b[0;34m,\u001b[0m \u001b[0;34m[\u001b[0m\u001b[0;34m]\u001b[0m\u001b[0;34m\u001b[0m\u001b[0;34m\u001b[0m\u001b[0m\n",
            "\u001b[0;32m/usr/local/lib/python3.10/dist-packages/torch/nn/modules/linear.py\u001b[0m in \u001b[0;36mforward\u001b[0;34m(self, input)\u001b[0m\n\u001b[1;32m    112\u001b[0m \u001b[0;34m\u001b[0m\u001b[0m\n\u001b[1;32m    113\u001b[0m     \u001b[0;32mdef\u001b[0m \u001b[0mforward\u001b[0m\u001b[0;34m(\u001b[0m\u001b[0mself\u001b[0m\u001b[0;34m,\u001b[0m \u001b[0minput\u001b[0m\u001b[0;34m:\u001b[0m \u001b[0mTensor\u001b[0m\u001b[0;34m)\u001b[0m \u001b[0;34m->\u001b[0m \u001b[0mTensor\u001b[0m\u001b[0;34m:\u001b[0m\u001b[0;34m\u001b[0m\u001b[0;34m\u001b[0m\u001b[0m\n\u001b[0;32m--> 114\u001b[0;31m         \u001b[0;32mreturn\u001b[0m \u001b[0mF\u001b[0m\u001b[0;34m.\u001b[0m\u001b[0mlinear\u001b[0m\u001b[0;34m(\u001b[0m\u001b[0minput\u001b[0m\u001b[0;34m,\u001b[0m \u001b[0mself\u001b[0m\u001b[0;34m.\u001b[0m\u001b[0mweight\u001b[0m\u001b[0;34m,\u001b[0m \u001b[0mself\u001b[0m\u001b[0;34m.\u001b[0m\u001b[0mbias\u001b[0m\u001b[0;34m)\u001b[0m\u001b[0;34m\u001b[0m\u001b[0;34m\u001b[0m\u001b[0m\n\u001b[0m\u001b[1;32m    115\u001b[0m \u001b[0;34m\u001b[0m\u001b[0m\n\u001b[1;32m    116\u001b[0m     \u001b[0;32mdef\u001b[0m \u001b[0mextra_repr\u001b[0m\u001b[0;34m(\u001b[0m\u001b[0mself\u001b[0m\u001b[0;34m)\u001b[0m \u001b[0;34m->\u001b[0m \u001b[0mstr\u001b[0m\u001b[0;34m:\u001b[0m\u001b[0;34m\u001b[0m\u001b[0;34m\u001b[0m\u001b[0m\n",
            "\u001b[0;31mRuntimeError\u001b[0m: mat1 and mat2 shapes cannot be multiplied (1x4 and 16x16)"
          ]
        }
      ]
    }
  ]
}
