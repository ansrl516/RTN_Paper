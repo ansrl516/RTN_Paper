{
  "nbformat": 4,
  "nbformat_minor": 0,
  "metadata": {
    "colab": {
      "provenance": [],
      "authorship_tag": "ABX9TyNkoCRA+kkACnGz5IEB1Cjw",
      "include_colab_link": true
    },
    "kernelspec": {
      "name": "python3",
      "display_name": "Python 3"
    },
    "language_info": {
      "name": "python"
    },
    "accelerator": "TPU"
  },
  "cells": [
    {
      "cell_type": "markdown",
      "metadata": {
        "id": "view-in-github",
        "colab_type": "text"
      },
      "source": [
        "<a href=\"https://colab.research.google.com/github/ansrl516/RTN_Paper/blob/main/RTN_f5_V1.ipynb\" target=\"_parent\"><img src=\"https://colab.research.google.com/assets/colab-badge.svg\" alt=\"Open In Colab\"/></a>"
      ]
    },
    {
      "cell_type": "code",
      "execution_count": null,
      "metadata": {
        "id": "Q8YfuSf6YUWk"
      },
      "outputs": [],
      "source": [
        "import torch\n",
        "import math\n",
        "import torch.nn as nn\n",
        "import torch.nn.functional as F\n",
        "import torch.optim as optim\n",
        "import torch.autograd as Variable\n",
        "import numpy as np"
      ]
    },
    {
      "cell_type": "code",
      "source": [
        "device = (\n",
        "    \"cuda\"\n",
        "    if torch.cuda.is_available()\n",
        "    else \"cpu\"\n",
        ")\n",
        "print(f\"Using {device} device\")"
      ],
      "metadata": {
        "colab": {
          "base_uri": "https://localhost:8080/"
        },
        "id": "slPnICM7Yb4H",
        "outputId": "de90fa64-405b-4e0c-807c-324e73bb5add"
      },
      "execution_count": null,
      "outputs": [
        {
          "output_type": "stream",
          "name": "stdout",
          "text": [
            "Using cpu device\n"
          ]
        }
      ]
    },
    {
      "cell_type": "code",
      "source": [
        "class Fig5(nn.Module):\n",
        "\n",
        "    def __init__(self, M, n, EbNo):\n",
        "        super().__init__()\n",
        "        self.M = M\n",
        "        self.n = n\n",
        "        self.b = 1/(2*(math.log2(M)/n)*EbNo)\n",
        "        self.LDense1 = nn.Linear(M,M)\n",
        "        self.Lrelu1 = nn.ReLU()\n",
        "        self.LDense2 = nn.Linear(M,2*n)\n",
        "        self.LBatchNorm = nn.BatchNorm1d(num_features=2*n, affine=False, track_running_stats=True)\n",
        "        self.LDense3 = nn.Linear(2*n,M)\n",
        "        self.Lrelu3 = nn.ReLU()\n",
        "        self.LDense4 = nn.Linear(M,M)\n",
        "        self.Lsoftmax = nn.Softmax(dim=1)\n",
        "        self.RDense1 = nn.Linear(M,M)\n",
        "        self.Rrelu1 = nn.ReLU()\n",
        "        self.RDense2 = nn.Linear(M,2*n)\n",
        "        self.RBatchNorm = nn.BatchNorm1d(num_features=2*n, affine=False, track_running_stats=True)\n",
        "        self.RDense3 = nn.Linear(2*n,M)\n",
        "        self.Rrelu3 = nn.ReLU()\n",
        "        self.RDense4 = nn.Linear(M,M)\n",
        "        self.Rsoftmax = nn.Softmax(dim=1)\n",
        "\n",
        "    def f1(self,x):\n",
        "        x = self.LDense1(x)\n",
        "        x = self.Lrelu1(x)\n",
        "        x = self.LDense2(x)\n",
        "        x = self.LBatchNorm(x)\n",
        "        return x\n",
        "    def f2(self,y):\n",
        "        x = self.RDense1(y)\n",
        "        y = self.Rrelu1(y)\n",
        "        y = self.RDense2(y)\n",
        "        y = self.RBatchNorm(y)\n",
        "        return y\n",
        "\n",
        "    def channel(self,x,y):\n",
        "        n1 = torch.normal(0,math.sqrt(self.b),size=(x.shape[0],2*n))\n",
        "        n2 = torch.normal(0,math.sqrt(self.b),size=(x.shape[0],2*n))\n",
        "        u1 = x + y + n1\n",
        "        u2 = y + x + n2\n",
        "        return u1, u2\n",
        "\n",
        "    def g(self,x,y):\n",
        "        x = self.LDense3(x)\n",
        "        x = self.Lrelu3(x)\n",
        "        x = self.LDense4(x)\n",
        "        x = self.Lsoftmax(x)\n",
        "        y = self.RDense3(y)\n",
        "        y = self.Rrelu3(y)\n",
        "        y = self.RDense4(y)\n",
        "        y = self.Rsoftmax(y)\n",
        "        return x,y\n",
        "\n",
        "    def forward(self,x,y):\n",
        "        x = self.f1(x)\n",
        "        y = self.f2(y)\n",
        "        x,y = self.channel(x,y)\n",
        "        x,y = self.g(x,y)\n",
        "        return x,y"
      ],
      "metadata": {
        "id": "O6Wwn8csYwIk"
      },
      "execution_count": null,
      "outputs": []
    },
    {
      "cell_type": "code",
      "source": [
        "#x=torch.tensor([[1.0,1,1,1],[2,2,2,2],[3,3,3,3]])\n",
        "#soft = nn.Softmax(dim=1)\n",
        "#print(torch.cat((x[:,0:2],x[:,0:2]),dim=1))\n",
        "##soft(x[:,0:2])\n",
        "print(data[4:8,:])\n",
        "print(model(data[4:8,:]))\n",
        "print(A[4:8,:])\n",
        "print(model(A[4:8,:]))"
      ],
      "metadata": {
        "colab": {
          "base_uri": "https://localhost:8080/"
        },
        "id": "LOEJST04Puqe",
        "outputId": "0cffac5a-42f3-4342-ef70-bfe7dc967a5e"
      },
      "execution_count": null,
      "outputs": [
        {
          "output_type": "stream",
          "name": "stdout",
          "text": [
            "tensor([[0., 0., 1., 0., 0., 1., 0., 0.],\n",
            "        [0., 0., 0., 1., 0., 1., 0., 0.],\n",
            "        [0., 1., 0., 0., 0., 0., 0., 1.],\n",
            "        [1., 0., 0., 0., 1., 0., 0., 0.]])\n",
            "tensor([[4.7384e-04, 2.7408e-05, 9.9949e-01, 9.5503e-06, 5.6984e-01, 8.0390e-02,\n",
            "         3.3953e-01, 1.0238e-02],\n",
            "        [3.9859e-05, 2.4352e-05, 3.7785e-07, 9.9994e-01, 3.3312e-01, 1.8818e-01,\n",
            "         4.6619e-01, 1.2501e-02],\n",
            "        [1.8164e-05, 9.9937e-01, 1.0864e-04, 5.0811e-04, 5.2299e-02, 4.2278e-02,\n",
            "         5.8069e-02, 8.4735e-01],\n",
            "        [9.9960e-01, 1.6624e-06, 1.1680e-04, 2.8119e-04, 6.9918e-01, 5.5314e-02,\n",
            "         9.9131e-02, 1.4637e-01]], grad_fn=<CatBackward0>)\n",
            "tensor([[0., 1., 0., 0., 1., 0., 0., 0.],\n",
            "        [0., 1., 0., 0., 0., 1., 0., 0.],\n",
            "        [0., 1., 0., 0., 0., 0., 1., 0.],\n",
            "        [0., 1., 0., 0., 0., 0., 0., 1.]])\n",
            "tensor([[0.2456, 0.0094, 0.7271, 0.0179, 0.4657, 0.1097, 0.3343, 0.0903],\n",
            "        [0.0611, 0.0484, 0.0303, 0.8601, 0.3253, 0.2010, 0.3462, 0.1275],\n",
            "        [0.0678, 0.0233, 0.0118, 0.8970, 0.3531, 0.1843, 0.3488, 0.1137],\n",
            "        [0.0672, 0.3030, 0.5736, 0.0563, 0.2952, 0.1617, 0.2740, 0.2691]],\n",
            "       grad_fn=<CatBackward0>)\n"
          ]
        }
      ]
    },
    {
      "cell_type": "code",
      "source": [
        "# Import Dataset of Epoch = 80, Batch_size = 32, Dataset = 6 * 10^4(Train) / 10^7(Test), Learning Rate = 0.001, Adam Optimizer\n",
        "from torch.utils.data import Dataset\n",
        "from torch.utils.data import DataLoader\n",
        "\n",
        "n, k = 4,4\n",
        "dataset_num = 10 ** 6\n",
        "data1 = F.one_hot(torch.randint(high=2**k,size=(dataset_num,)),num_classes=2**k)\n",
        "data1 = data1.to(torch.float32)\n",
        "\n",
        "data2 = F.one_hot(torch.randint(high=2**k,size=(dataset_num,)),num_classes=2**k)\n",
        "data2 = data2.to(torch.float32)\n",
        "\n",
        "class CustomDataset(Dataset):\n",
        "    def __init__(self, data1, data2):\n",
        "        self.data1 = data1\n",
        "        self.data2 = data2\n",
        "    def __len__(self):\n",
        "        return len(self.data1)\n",
        "    def __getitem__(self, idx):\n",
        "        return self.data1[idx], self.data2[idx]\n",
        "\n",
        "dataset = CustomDataset(data1,data2)\n",
        "dataset_size = len(dataset)\n",
        "print(dataset_size)\n",
        "train_size = int(0.006 * dataset_size)\n",
        "test_size = dataset_size - train_size\n",
        "train_dataset, test_dataset = torch.utils.data.random_split(dataset, [train_size, test_size])\n",
        "\n",
        "train_dataloader = DataLoader(train_dataset, batch_size=32, shuffle=True, drop_last=True)\n",
        "test_dataloader = DataLoader(test_dataset, batch_size=len(test_dataset))"
      ],
      "metadata": {
        "colab": {
          "base_uri": "https://localhost:8080/"
        },
        "id": "6-dFC_85Fqc0",
        "outputId": "f963851f-d89d-4448-a6d4-34d18d9c9931"
      },
      "execution_count": null,
      "outputs": [
        {
          "output_type": "stream",
          "name": "stdout",
          "text": [
            "1000000\n"
          ]
        }
      ]
    },
    {
      "cell_type": "code",
      "source": [
        "EbNo = 10 ** (3/10)\n",
        "n,k = 4,4\n",
        "model = Fig5(2**k,n,EbNo)\n",
        "criterion = nn.CrossEntropyLoss().to(device) # Define my loss functino\n",
        "optimizer = optim.Adam(model.parameters(), lr=0.001)\n",
        "for epoch in range(100):\n",
        "    print(epoch)\n",
        "    cost = 0.0\n",
        "    i = 0\n",
        "    a = 0.5\n",
        "    for (_, (x,y)) in enumerate(train_dataloader):\n",
        "        i += 1\n",
        "        x = x.to(device)\n",
        "        y = y.to(device)\n",
        "        #print(x.shape)\n",
        "        outputx, outputy = model(x,y)\n",
        "        loss1 = criterion(x,outputx)\n",
        "        loss2 = criterion(y,outputy)\n",
        "        loss = a * loss1 + (1-a) * loss2\n",
        "\n",
        "        optimizer.zero_grad()\n",
        "        loss.backward()\n",
        "        optimizer.step()\n",
        "        #print(loss.item(),loss1.item(),loss2.item())\n",
        "\n",
        "        a = loss1.item()/(loss1.item()+loss2.item())\n",
        "        cost += loss\n",
        "    #print(EbNo, cost/i)\n",
        "with torch.no_grad():\n",
        "    x,y = dataset[:]\n",
        "    x = x.to(device)\n",
        "    y = y.to(device)\n",
        "    Ox,Oy = model(x,y)\n",
        "    Ox = Ox.detach().numpy()\n",
        "    Oy = Oy.detach().numpy()\n",
        "    x = x.detach().numpy()\n",
        "    y = y.detach().numpy()\n",
        "    x_index = np.argmax(Ox,axis=1)\n",
        "    y_index = np.argmax(Oy,axis=1)\n",
        "    x_true = np.argmax(x, axis=1)\n",
        "    y_true = np.argmax(y, axis=1)\n",
        "    Ps1 = len(np.nonzero(x_index - x_true)[0])/x_true.shape[0]\n",
        "    Ps2 = len(np.nonzero(y_index - y_true)[0])/y_true.shape[0]\n",
        "    print(Ps1,Ps2)\n",
        "\n",
        "A = np.eye(2**k)\n",
        "A = torch.tensor(A)\n",
        "A = A.to(torch.float32)\n",
        "coord1 = model.f1(A).detach().numpy()\n",
        "coord2 = model.f2(A).detach().numpy()\n",
        "\n",
        "import matplotlib.pyplot as plt\n",
        "for dot in coord1:\n",
        "    plt.scatter(dot[0],dot[1],color='r')\n",
        "for dot in coord2:\n",
        "    plt.scatter(dot[0],dot[1],color='b')\n",
        "plt.xlim(-2,2)\n",
        "plt.ylim(-2,2)\n",
        "plt.grid(True)\n",
        "plt.show()\n",
        "for dot in coord1:\n",
        "    plt.scatter(dot[2],dot[3],color='r')\n",
        "for dot in coord2:\n",
        "    plt.scatter(dot[2],dot[3],color='b')\n",
        "plt.xlim(-2,2)\n",
        "plt.ylim(-2,2)\n",
        "plt.grid(True)\n",
        "plt.show()\n",
        "for dot in coord1:\n",
        "    plt.scatter(dot[4],dot[5],color='r')\n",
        "for dot in coord2:\n",
        "    plt.scatter(dot[4],dot[5],color='b')\n",
        "plt.xlim(-2,2)\n",
        "plt.ylim(-2,2)\n",
        "plt.grid(True)\n",
        "plt.show()\n",
        "for dot in coord1:\n",
        "    plt.scatter(dot[6],dot[7],color='r')\n",
        "for dot in coord2:\n",
        "    plt.scatter(dot[6],dot[7],color='b')\n",
        "plt.xlim(-2,2)\n",
        "plt.ylim(-2,2)\n",
        "plt.grid(True)\n",
        "plt.show()"
      ],
      "metadata": {
        "colab": {
          "base_uri": "https://localhost:8080/",
          "height": 1000
        },
        "id": "ClyYUYbOY1Hg",
        "outputId": "40fe8fcd-0a05-4b76-d291-05c501ca1f34"
      },
      "execution_count": null,
      "outputs": [
        {
          "output_type": "stream",
          "name": "stdout",
          "text": [
            "0\n",
            "1\n",
            "2\n",
            "3\n",
            "4\n",
            "5\n",
            "6\n",
            "7\n",
            "8\n",
            "9\n",
            "10\n",
            "11\n",
            "12\n",
            "13\n",
            "14\n",
            "15\n",
            "16\n",
            "17\n",
            "18\n",
            "19\n",
            "20\n",
            "21\n",
            "22\n",
            "23\n",
            "24\n",
            "25\n",
            "26\n",
            "27\n",
            "28\n",
            "29\n",
            "30\n",
            "31\n",
            "32\n",
            "33\n",
            "34\n",
            "35\n",
            "36\n",
            "37\n",
            "38\n",
            "39\n",
            "40\n",
            "41\n",
            "42\n",
            "43\n",
            "44\n",
            "45\n",
            "46\n",
            "47\n",
            "48\n",
            "49\n",
            "50\n",
            "51\n",
            "52\n",
            "53\n",
            "54\n",
            "55\n",
            "56\n",
            "57\n",
            "58\n",
            "59\n",
            "60\n",
            "61\n",
            "62\n",
            "63\n",
            "64\n",
            "65\n",
            "66\n",
            "67\n",
            "68\n",
            "69\n",
            "70\n",
            "71\n",
            "72\n",
            "73\n",
            "74\n",
            "75\n",
            "76\n",
            "77\n",
            "78\n",
            "79\n",
            "80\n",
            "81\n",
            "82\n",
            "83\n",
            "84\n",
            "85\n",
            "86\n",
            "87\n",
            "88\n",
            "89\n",
            "90\n",
            "91\n",
            "92\n",
            "93\n",
            "94\n",
            "95\n",
            "96\n",
            "97\n",
            "98\n",
            "99\n",
            "0.006751 0.008053\n"
          ]
        },
        {
          "output_type": "display_data",
          "data": {
            "text/plain": [
              "<Figure size 640x480 with 1 Axes>"
            ],
            "image/png": "[encoded data removed]"
          },
          "metadata": {}
        },
        {
          "output_type": "display_data",
          "data": {
            "text/plain": [
              "<Figure size 640x480 with 1 Axes>"
            ],
            "image/png": "[encoded data removed]"
          },
          "metadata": {}
        },
        {
          "output_type": "display_data",
          "data": {
            "text/plain": [
              "<Figure size 640x480 with 1 Axes>"
            ],
            "image/png": "[encoded data removed]"
          },
          "metadata": {}
        },
        {
          "output_type": "display_data",
          "data": {
            "text/plain": [
              "<Figure size 640x480 with 1 Axes>"
            ],
            "image/png": "[encoded data removed]"
          },
          "metadata": {}
        }
      ]
    }
  ]
}
